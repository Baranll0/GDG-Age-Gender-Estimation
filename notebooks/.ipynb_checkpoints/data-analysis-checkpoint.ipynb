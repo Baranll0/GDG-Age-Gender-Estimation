{
 "cells": [
  {
   "cell_type": "code",
   "id": "initial_id",
   "metadata": {
    "collapsed": true,
    "ExecuteTime": {
     "end_time": "2024-10-11T17:20:55.888808495Z",
     "start_time": "2024-10-11T13:53:39.262141Z"
    }
   },
   "source": [
    "import pandas as pd\n",
    "import numpy as np\n",
    "import matplotlib.pyplot as plt"
   ],
   "outputs": [],
   "execution_count": 2
  },
  {
   "metadata": {
    "ExecuteTime": {
     "end_time": "2024-10-11T17:00:41.242348Z",
     "start_time": "2024-10-11T17:00:40.664622Z"
    }
   },
   "cell_type": "code",
   "source": "data=pd.read_csv(\"/media/baran/Disk1/BARANDENEMELER/GDG-Project1-AITeam/AITeam-Workspace/data/raw/age-detection/age_detection.csv\")",
   "id": "580cae44bbb25e14",
   "outputs": [],
   "execution_count": 3
  },
  {
   "metadata": {
    "ExecuteTime": {
     "end_time": "2024-10-11T17:00:42.054530Z",
     "start_time": "2024-10-11T17:00:42.017588Z"
    }
   },
   "cell_type": "code",
   "source": "data",
   "id": "ce479b82208b44e4",
   "outputs": [
    {
     "data": {
      "text/plain": [
       "                  file    age  split\n",
       "0    train/18-20/0.jpg  18-20  train\n",
       "1    train/18-20/1.jpg  18-20  train\n",
       "2    train/18-20/2.jpg  18-20  train\n",
       "3    train/18-20/3.jpg  18-20  train\n",
       "4    train/18-20/4.jpg  18-20  train\n",
       "..                 ...    ...    ...\n",
       "145  test/51-60/25.jpg  51-60   test\n",
       "146  test/51-60/26.jpg  51-60   test\n",
       "147  test/51-60/27.jpg  51-60   test\n",
       "148  test/51-60/28.jpg  51-60   test\n",
       "149  test/51-60/29.jpg  51-60   test\n",
       "\n",
       "[150 rows x 3 columns]"
      ],
      "text/html": [
       "<div>\n",
       "<style scoped>\n",
       "    .dataframe tbody tr th:only-of-type {\n",
       "        vertical-align: middle;\n",
       "    }\n",
       "\n",
       "    .dataframe tbody tr th {\n",
       "        vertical-align: top;\n",
       "    }\n",
       "\n",
       "    .dataframe thead th {\n",
       "        text-align: right;\n",
       "    }\n",
       "</style>\n",
       "<table border=\"1\" class=\"dataframe\">\n",
       "  <thead>\n",
       "    <tr style=\"text-align: right;\">\n",
       "      <th></th>\n",
       "      <th>file</th>\n",
       "      <th>age</th>\n",
       "      <th>split</th>\n",
       "    </tr>\n",
       "  </thead>\n",
       "  <tbody>\n",
       "    <tr>\n",
       "      <th>0</th>\n",
       "      <td>train/18-20/0.jpg</td>\n",
       "      <td>18-20</td>\n",
       "      <td>train</td>\n",
       "    </tr>\n",
       "    <tr>\n",
       "      <th>1</th>\n",
       "      <td>train/18-20/1.jpg</td>\n",
       "      <td>18-20</td>\n",
       "      <td>train</td>\n",
       "    </tr>\n",
       "    <tr>\n",
       "      <th>2</th>\n",
       "      <td>train/18-20/2.jpg</td>\n",
       "      <td>18-20</td>\n",
       "      <td>train</td>\n",
       "    </tr>\n",
       "    <tr>\n",
       "      <th>3</th>\n",
       "      <td>train/18-20/3.jpg</td>\n",
       "      <td>18-20</td>\n",
       "      <td>train</td>\n",
       "    </tr>\n",
       "    <tr>\n",
       "      <th>4</th>\n",
       "      <td>train/18-20/4.jpg</td>\n",
       "      <td>18-20</td>\n",
       "      <td>train</td>\n",
       "    </tr>\n",
       "    <tr>\n",
       "      <th>...</th>\n",
       "      <td>...</td>\n",
       "      <td>...</td>\n",
       "      <td>...</td>\n",
       "    </tr>\n",
       "    <tr>\n",
       "      <th>145</th>\n",
       "      <td>test/51-60/25.jpg</td>\n",
       "      <td>51-60</td>\n",
       "      <td>test</td>\n",
       "    </tr>\n",
       "    <tr>\n",
       "      <th>146</th>\n",
       "      <td>test/51-60/26.jpg</td>\n",
       "      <td>51-60</td>\n",
       "      <td>test</td>\n",
       "    </tr>\n",
       "    <tr>\n",
       "      <th>147</th>\n",
       "      <td>test/51-60/27.jpg</td>\n",
       "      <td>51-60</td>\n",
       "      <td>test</td>\n",
       "    </tr>\n",
       "    <tr>\n",
       "      <th>148</th>\n",
       "      <td>test/51-60/28.jpg</td>\n",
       "      <td>51-60</td>\n",
       "      <td>test</td>\n",
       "    </tr>\n",
       "    <tr>\n",
       "      <th>149</th>\n",
       "      <td>test/51-60/29.jpg</td>\n",
       "      <td>51-60</td>\n",
       "      <td>test</td>\n",
       "    </tr>\n",
       "  </tbody>\n",
       "</table>\n",
       "<p>150 rows × 3 columns</p>\n",
       "</div>"
      ]
     },
     "execution_count": 4,
     "metadata": {},
     "output_type": "execute_result"
    }
   ],
   "execution_count": 4
  },
  {
   "metadata": {
    "ExecuteTime": {
     "end_time": "2024-10-11T17:01:10.188895Z",
     "start_time": "2024-10-11T17:01:10.180480Z"
    }
   },
   "cell_type": "code",
   "source": "data[\"age\"].value_counts()",
   "id": "5a9b73a9b130b822",
   "outputs": [
    {
     "data": {
      "text/plain": [
       "age\n",
       "18-20    30\n",
       "21-30    30\n",
       "31-40    30\n",
       "41-50    30\n",
       "51-60    30\n",
       "Name: count, dtype: int64"
      ]
     },
     "execution_count": 6,
     "metadata": {},
     "output_type": "execute_result"
    }
   ],
   "execution_count": 6
  },
  {
   "metadata": {
    "jupyter": {
     "is_executing": true
    },
    "ExecuteTime": {
     "start_time": "2024-10-11T17:14:37.972050Z"
    }
   },
   "cell_type": "code",
   "source": "",
   "id": "6c16388cbc583e5a",
   "outputs": [],
   "execution_count": null
  },
  {
   "metadata": {
    "ExecuteTime": {
     "end_time": "2024-10-11T17:20:55.870193Z",
     "start_time": "2024-10-11T17:20:55.066908Z"
    }
   },
   "cell_type": "code",
   "source": [
    "import cv2\n",
    "import requests\n",
    "import random\n",
    "import os\n",
    "df=data\n",
    "\n",
    "# Görsel dosyalarının bulunduğu klasör yolu\n",
    "image_directory = \"/media/baran/Disk1/BARANDENEMELER/GDG-Project1-AITeam/AITeam-Workspace/data/raw/age-detection\"\n",
    "\n",
    "# Görsel dosya adlarının bulunduğu sütun\n",
    "file_column = 'file'  # CSV'deki dosya adlarının bulunduğu sütun adı\n",
    "\n",
    "# Rastgele 5 görsel seç\n",
    "random_files = df[file_column].sample(5).values\n",
    "# İstenen boyut\n",
    "desired_size = (640, 640)\n",
    "\n",
    "# Görselleri göster\n",
    "for i, file_name in enumerate(random_files):\n",
    "    # Tam dosya yolunu oluştur\n",
    "    img_path = os.path.join(image_directory, file_name)\n",
    "\n",
    "    # Görseli oku\n",
    "    img = cv2.imread(img_path)\n",
    "\n",
    "    # Görseli kontrol et, dosya bulunamıyorsa uyarı ver\n",
    "    if img is None:\n",
    "        print(f\"Görüntü bulunamadı: {img_path}\")\n",
    "        continue\n",
    "\n",
    "    # Görseli 640x640 boyutuna yeniden boyutlandır\n",
    "    resized_img = cv2.resize(img, desired_size)\n",
    "\n",
    "    # Görseli göster\n",
    "    cv2.imshow(f\"Image {i+1}\", resized_img)\n",
    "\n",
    "# Çıkış için bir tuşa basılmasını bekle\n",
    "cv2.waitKey(0)\n",
    "cv2.destroyAllWindows()"
   ],
   "id": "c4cd219548f9e3f2",
   "outputs": [
    {
     "ename": "NameError",
     "evalue": "name 'data' is not defined",
     "output_type": "error",
     "traceback": [
      "\u001B[0;31m---------------------------------------------------------------------------\u001B[0m",
      "\u001B[0;31mNameError\u001B[0m                                 Traceback (most recent call last)",
      "Cell \u001B[0;32mIn[1], line 5\u001B[0m\n\u001B[1;32m      3\u001B[0m \u001B[38;5;28;01mimport\u001B[39;00m \u001B[38;5;21;01mrandom\u001B[39;00m\n\u001B[1;32m      4\u001B[0m \u001B[38;5;28;01mimport\u001B[39;00m \u001B[38;5;21;01mos\u001B[39;00m\n\u001B[0;32m----> 5\u001B[0m df\u001B[38;5;241m=\u001B[39mdata\n\u001B[1;32m      7\u001B[0m \u001B[38;5;66;03m# Görsel dosyalarının bulunduğu klasör yolu\u001B[39;00m\n\u001B[1;32m      8\u001B[0m image_directory \u001B[38;5;241m=\u001B[39m \u001B[38;5;124m\"\u001B[39m\u001B[38;5;124m/media/baran/Disk1/BARANDENEMELER/GDG-Project1-AITeam/AITeam-Workspace/data/raw/age-detection\u001B[39m\u001B[38;5;124m\"\u001B[39m\n",
      "\u001B[0;31mNameError\u001B[0m: name 'data' is not defined"
     ]
    }
   ],
   "execution_count": 1
  },
  {
   "metadata": {},
   "cell_type": "code",
   "outputs": [],
   "execution_count": null,
   "source": "",
   "id": "3717ec3c17c4509b"
  }
 ],
 "metadata": {
  "kernelspec": {
   "display_name": "Python 3",
   "language": "python",
   "name": "python3"
  },
  "language_info": {
   "codemirror_mode": {
    "name": "ipython",
    "version": 2
   },
   "file_extension": ".py",
   "mimetype": "text/x-python",
   "name": "python",
   "nbconvert_exporter": "python",
   "pygments_lexer": "ipython2",
   "version": "2.7.6"
  }
 },
 "nbformat": 4,
 "nbformat_minor": 5
}
